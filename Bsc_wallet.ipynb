{
 "cells": [
  {
   "cell_type": "code",
   "execution_count": 12,
   "outputs": [],
   "source": [
    "from bip_utils import Bip39MnemonicGenerator, Bip39SeedGenerator, Bip44, Bip44Coins, Bip44Changes"
   ],
   "metadata": {
    "collapsed": false
   }
  },
  {
   "cell_type": "code",
   "execution_count": 17,
   "outputs": [],
   "source": [
    "a=Bip39MnemonicGenerator()"
   ],
   "metadata": {
    "collapsed": false
   }
  },
  {
   "cell_type": "code",
   "execution_count": 38,
   "outputs": [
    {
     "name": "stdout",
     "output_type": "stream",
     "text": [
      "Mnemonic string:\n",
      "steel crunch prevent kite safe harvest modify winner direct replace skill park\n"
     ]
    }
   ],
   "source": [
    "mnemonic = a.FromWordsNumber(words_num=12)\n",
    "print(f\"Mnemonic string:\\n{mnemonic}\")"
   ],
   "metadata": {
    "collapsed": false
   }
  },
  {
   "cell_type": "code",
   "execution_count": 20,
   "outputs": [],
   "source": [
    "seed_bytes = Bip39SeedGenerator(mnemonic).Generate()"
   ],
   "metadata": {
    "collapsed": false
   }
  },
  {
   "cell_type": "code",
   "execution_count": 32,
   "outputs": [
    {
     "name": "stdout",
     "output_type": "stream",
     "text": [
      "Master key (bytes): 67931cb1efe3a04e8aaeafa37acb3234454ae5f56a4f8cb89f26c4319e8e1508\n"
     ]
    }
   ],
   "source": [
    "# Generate BIP44 master keys\n",
    "bip_obj_mst = Bip44.FromSeed(seed_bytes, Bip44Coins.BINANCE_SMART_CHAIN)\n",
    "# Print master key\n",
    "# print(\"Master key (bytes): %s\" % bip_obj_mst.PrivateKey().Raw().ToHex())\n",
    "# print(\"Master key (extended): %s\" % bip_obj_mst.PrivateKey().ToExtended())\n",
    "# print(\"Master key (WIF): %s\" % bip_obj_mst.PrivateKey().ToWif())"
   ],
   "metadata": {
    "collapsed": false
   }
  },
  {
   "cell_type": "code",
   "execution_count": 33,
   "outputs": [],
   "source": [
    "# Generate BIP44 account keys\n",
    "bip_obj_acc = bip_obj_mst.Purpose().Coin().Account(0)"
   ],
   "metadata": {
    "collapsed": false
   }
  },
  {
   "cell_type": "code",
   "execution_count": 34,
   "outputs": [],
   "source": [
    "\n",
    "# Generate BIP44 chain keys\n",
    "bip_obj_chain = bip_obj_acc.Change(Bip44Changes.CHAIN_EXT)"
   ],
   "metadata": {
    "collapsed": false
   }
  },
  {
   "cell_type": "code",
   "execution_count": 43,
   "metadata": {
    "collapsed": true
   },
   "outputs": [
    {
     "name": "stdout",
     "output_type": "stream",
     "text": [
      "0. Address private key:\n",
      "89aca4fed208e237832b7990586f6ffdb185c63a780e5595de8ba826f867945b\n",
      "0. Address:\n",
      "0x5943462C54eF784b9c996CBeC57f131826D373D0\n",
      "Now you can import this PRIVATE KEY or MNEMONIC to your metamask or trust wallet and deposit your BSC tokens like CAKE tou your generated address \n"
     ]
    }
   ],
   "source": [
    "\n",
    "# Generate the address pool (first 1 address)\n",
    "for i in range(1):\n",
    "    bip_obj_addr = bip_obj_chain.AddressIndex(i)\n",
    "    # print(f\"{i}. Address public key (extended):\\n{bip_obj_addr.PublicKey().ToExtended()}\")\n",
    "    print(f\"{i}. Address private key:\\n{bip_obj_addr.PrivateKey().Raw()}\")\n",
    "    print(f\"{i}. Address:\\n{bip_obj_addr.PublicKey().ToAddress()}\")\n",
    "    print(\"Now you can import this PRIVATE KEY or MNEMONIC to your metamask or trust wallet and deposit your BSC tokens like CAKE tou your generated address \")"
   ]
  },
  {
   "cell_type": "code",
   "execution_count": null,
   "outputs": [],
   "source": [],
   "metadata": {
    "collapsed": false
   }
  }
 ],
 "metadata": {
  "kernelspec": {
   "display_name": "Python 3",
   "language": "python",
   "name": "python3"
  },
  "language_info": {
   "codemirror_mode": {
    "name": "ipython",
    "version": 2
   },
   "file_extension": ".py",
   "mimetype": "text/x-python",
   "name": "python",
   "nbconvert_exporter": "python",
   "pygments_lexer": "ipython2",
   "version": "2.7.6"
  }
 },
 "nbformat": 4,
 "nbformat_minor": 0
}
